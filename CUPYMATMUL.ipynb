{
  "nbformat": 4,
  "nbformat_minor": 0,
  "metadata": {
    "colab": {
      "provenance": [],
      "gpuType": "T4",
      "authorship_tag": "ABX9TyOMMt4uf6Vs/P3x2g40w3Fl",
      "include_colab_link": true
    },
    "kernelspec": {
      "name": "python3",
      "display_name": "Python 3"
    },
    "language_info": {
      "name": "python"
    },
    "accelerator": "GPU"
  },
  "cells": [
    {
      "cell_type": "markdown",
      "metadata": {
        "id": "view-in-github",
        "colab_type": "text"
      },
      "source": [
        "<a href=\"https://colab.research.google.com/github/afrenkai/CUDA-MATMUL-WORKSHOP/blob/main/CUPYMATMUL.ipynb\" target=\"_parent\"><img src=\"https://colab.research.google.com/assets/colab-badge.svg\" alt=\"Open In Colab\"/></a>"
      ]
    },
    {
      "cell_type": "code",
      "execution_count": 1,
      "metadata": {
        "colab": {
          "base_uri": "https://localhost:8080/"
        },
        "id": "yisJgnlYyvHq",
        "outputId": "72e66269-bd69-400f-8049-3f0860e5bb20"
      },
      "outputs": [
        {
          "output_type": "stream",
          "name": "stdout",
          "text": [
            "[[255.94768 253.20157 255.33084 ... 257.97128 253.96402 263.30676]\n",
            " [254.0603  251.29208 256.33606 ... 257.70004 253.79645 259.91302]\n",
            " [259.87488 256.10492 263.8799  ... 269.3301  262.39664 267.78268]\n",
            " ...\n",
            " [256.88297 249.0023  255.15099 ... 261.4211  251.97107 258.4483 ]\n",
            " [253.96637 247.39651 252.47224 ... 254.45552 253.09186 257.19742]\n",
            " [260.76877 251.97546 261.6092  ... 265.2931  253.9288  258.9859 ]]\n"
          ]
        }
      ],
      "source": [
        "import cupy as cpy\n",
        "\n",
        "# Matrix size (N x N)\n",
        "N = 1024\n",
        "\n",
        "# Create random matrices A and B\n",
        "A = cpy.random.rand(N, N).astype(cpy.float32)\n",
        "B = cpy.random.rand(N, N).astype(cpy.float32)\n",
        "\n",
        "# Allocate memory for the result matrix C\n",
        "\n",
        "# zeros literally makes a zero matrix [[0,0], [0,0]] of size NxN (the example here is N = 2)\n",
        "\n",
        "C = cpy.zeros((N, N), dtype=cpy.float32)\n",
        "\n",
        "# Perform matrix multiplication using CuPy (this is done on GPU)\n",
        "C = cpy.matmul(A, B)\n",
        "\n",
        "# Copy the result back to the host (if needed, but unnecessary for GPU-only operations)\n",
        "C_host = cpy.asnumpy(C)\n",
        "\n",
        "# Print a portion of the result\n",
        "print(C_host)\n"
      ]
    },
    {
      "cell_type": "code",
      "source": [
        "!pip install"
      ],
      "metadata": {
        "id": "YCld_jP6y0JX"
      },
      "execution_count": null,
      "outputs": []
    }
  ]
}